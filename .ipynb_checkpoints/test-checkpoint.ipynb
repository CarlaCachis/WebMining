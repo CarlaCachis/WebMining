{
 "cells": [
  {
   "cell_type": "code",
   "execution_count": 2,
   "metadata": {},
   "outputs": [
    {
     "name": "stdout",
     "output_type": "stream",
     "text": [
      "Collecting gensim\n",
      "  Downloading https://files.pythonhosted.org/packages/09/ed/b59a2edde05b7f5755ea68648487c150c7c742361e9c8733c6d4ca005020/gensim-3.8.1-cp37-cp37m-win_amd64.whl (24.2MB)\n",
      "Collecting smart-open>=1.8.1 (from gensim)\n",
      "  Using cached https://files.pythonhosted.org/packages/0c/09/735f2786dfac9bbf39d244ce75c0313d27d4962e71e0774750dc809f2395/smart_open-1.9.0.tar.gz\n",
      "Requirement already satisfied: scipy>=0.18.1 in c:\\users\\luisa\\anaconda3\\lib\\site-packages (from gensim) (1.2.1)\n",
      "Requirement already satisfied: numpy>=1.11.3 in c:\\users\\luisa\\anaconda3\\lib\\site-packages (from gensim) (1.16.4)\n",
      "Requirement already satisfied: six>=1.5.0 in c:\\users\\luisa\\anaconda3\\lib\\site-packages (from gensim) (1.12.0)\n",
      "Requirement already satisfied: boto>=2.32 in c:\\users\\luisa\\anaconda3\\lib\\site-packages (from smart-open>=1.8.1->gensim) (2.49.0)\n",
      "Requirement already satisfied: requests in c:\\users\\luisa\\anaconda3\\lib\\site-packages (from smart-open>=1.8.1->gensim) (2.22.0)\n",
      "Collecting boto3 (from smart-open>=1.8.1->gensim)\n",
      "  Downloading https://files.pythonhosted.org/packages/6a/a2/b94c3a55232b8e271f1f6031e092a23b1ad3f18a09b6bceeb601ed3e8f7c/boto3-1.10.30-py2.py3-none-any.whl (128kB)\n",
      "Requirement already satisfied: chardet<3.1.0,>=3.0.2 in c:\\users\\luisa\\anaconda3\\lib\\site-packages (from requests->smart-open>=1.8.1->gensim) (3.0.4)\n",
      "Requirement already satisfied: certifi>=2017.4.17 in c:\\users\\luisa\\anaconda3\\lib\\site-packages (from requests->smart-open>=1.8.1->gensim) (2019.6.16)\n",
      "Requirement already satisfied: urllib3!=1.25.0,!=1.25.1,<1.26,>=1.21.1 in c:\\users\\luisa\\anaconda3\\lib\\site-packages (from requests->smart-open>=1.8.1->gensim) (1.24.2)\n",
      "Requirement already satisfied: idna<2.9,>=2.5 in c:\\users\\luisa\\anaconda3\\lib\\site-packages (from requests->smart-open>=1.8.1->gensim) (2.8)\n",
      "Collecting jmespath<1.0.0,>=0.7.1 (from boto3->smart-open>=1.8.1->gensim)\n",
      "  Using cached https://files.pythonhosted.org/packages/83/94/7179c3832a6d45b266ddb2aac329e101367fbdb11f425f13771d27f225bb/jmespath-0.9.4-py2.py3-none-any.whl\n",
      "Collecting s3transfer<0.3.0,>=0.2.0 (from boto3->smart-open>=1.8.1->gensim)\n",
      "  Using cached https://files.pythonhosted.org/packages/16/8a/1fc3dba0c4923c2a76e1ff0d52b305c44606da63f718d14d3231e21c51b0/s3transfer-0.2.1-py2.py3-none-any.whl\n",
      "Collecting botocore<1.14.0,>=1.13.30 (from boto3->smart-open>=1.8.1->gensim)\n",
      "  Downloading https://files.pythonhosted.org/packages/22/26/873dd02745f5b9be7938abe6c4dcd802e283d41ff3eb9a5f4aa03e7974ce/botocore-1.13.30-py2.py3-none-any.whl (5.7MB)\n",
      "Requirement already satisfied: python-dateutil<2.8.1,>=2.1; python_version >= \"2.7\" in c:\\users\\luisa\\anaconda3\\lib\\site-packages (from botocore<1.14.0,>=1.13.30->boto3->smart-open>=1.8.1->gensim) (2.8.0)\n",
      "Requirement already satisfied: docutils<0.16,>=0.10 in c:\\users\\luisa\\anaconda3\\lib\\site-packages (from botocore<1.14.0,>=1.13.30->boto3->smart-open>=1.8.1->gensim) (0.14)\n",
      "Building wheels for collected packages: smart-open\n",
      "  Building wheel for smart-open (setup.py): started\n",
      "  Building wheel for smart-open (setup.py): finished with status 'done'\n",
      "  Stored in directory: C:\\Users\\luisa\\AppData\\Local\\pip\\Cache\\wheels\\ab\\10\\93\\5cff86f5b721d77edaecc29959b1c60d894be1f66d91407d28\n",
      "Successfully built smart-open\n",
      "Installing collected packages: jmespath, botocore, s3transfer, boto3, smart-open, gensim\n",
      "Successfully installed boto3-1.10.30 botocore-1.13.30 gensim-3.8.1 jmespath-0.9.4 s3transfer-0.2.1 smart-open-1.9.0\n"
     ]
    }
   ],
   "source": [
    "!pip install gensim"
   ]
  },
  {
   "cell_type": "code",
   "execution_count": 6,
   "metadata": {
    "colab": {},
    "colab_type": "code",
    "id": "oE8NhbkiccgN"
   },
   "outputs": [
    {
     "name": "stderr",
     "output_type": "stream",
     "text": [
      "[nltk_data] Downloading package punkt to\n",
      "[nltk_data]     C:\\Users\\luisa\\AppData\\Roaming\\nltk_data...\n",
      "[nltk_data]   Package punkt is already up-to-date!\n"
     ]
    }
   ],
   "source": [
    "from gensim.corpora.wikicorpus import WikiCorpus\n",
    "import pandas as pd\n",
    "import re\n",
    "import nltk\n",
    "nltk.download('punkt')\n",
    "import string\n",
    "from nltk.corpus import stopwords\n",
    "from sklearn import model_selection, naive_bayes, svm\n",
    "from sklearn.metrics import accuracy_score\n",
    "from gensim.models.doc2vec import Doc2Vec, TaggedDocument\n",
    "from nltk.tokenize import word_tokenize\n",
    "import numpy as np\n",
    "from sklearn.metrics.pairwise import cosine_similarity"
   ]
  },
  {
   "cell_type": "code",
   "execution_count": 7,
   "metadata": {
    "colab": {},
    "colab_type": "code",
    "id": "FYNIFnOKccgb"
   },
   "outputs": [],
   "source": [
    "from gensim.models.doc2vec import Doc2Vec\n"
   ]
  },
  {
   "cell_type": "code",
   "execution_count": 8,
   "metadata": {
    "colab": {},
    "colab_type": "code",
    "id": "4j_zSvRSccgl"
   },
   "outputs": [],
   "source": [
    "from pprint import pprint"
   ]
  },
  {
   "cell_type": "code",
   "execution_count": 9,
   "metadata": {
    "colab": {},
    "colab_type": "code",
    "id": "VIA71vEAccgr"
   },
   "outputs": [],
   "source": [
    "import multiprocessing "
   ]
  },
  {
   "cell_type": "code",
   "execution_count": 10,
   "metadata": {
    "colab": {},
    "colab_type": "code",
    "id": "aqD_rLdXcch_"
   },
   "outputs": [],
   "source": [
    "import gensim"
   ]
  },
  {
   "cell_type": "code",
   "execution_count": 44,
   "metadata": {
    "colab": {
     "base_uri": "https://localhost:8080/",
     "height": 54
    },
    "colab_type": "code",
    "executionInfo": {
     "elapsed": 979,
     "status": "ok",
     "timestamp": 1575246717101,
     "user": {
      "displayName": "CARLA NATALIA CACHIS GONZALES",
      "photoUrl": "",
      "userId": "02723007888342178357"
     },
     "user_tz": 300
    },
    "id": "0c9lDYmzdKoV",
    "outputId": "6c98e80c-ca16-4fcb-ff44-92e13b232b60"
   },
   "outputs": [
    {
     "name": "stdout",
     "output_type": "stream",
     "text": [
      "Drive already mounted at /content/drive; to attempt to forcibly remount, call drive.mount(\"/content/drive\", force_remount=True).\n"
     ]
    }
   ],
   "source": [
    "from google.colab import drive\n",
    "drive.mount('/content/drive')"
   ]
  },
  {
   "cell_type": "code",
   "execution_count": 45,
   "metadata": {
    "colab": {
     "base_uri": "https://localhost:8080/",
     "height": 196
    },
    "colab_type": "code",
    "executionInfo": {
     "elapsed": 3289,
     "status": "ok",
     "timestamp": 1575246722219,
     "user": {
      "displayName": "CARLA NATALIA CACHIS GONZALES",
      "photoUrl": "",
      "userId": "02723007888342178357"
     },
     "user_tz": 300
    },
    "id": "I7HFRwaWd40v",
    "outputId": "dfba23ff-65ff-42e3-e3bc-09e38606a508"
   },
   "outputs": [
    {
     "name": "stdout",
     "output_type": "stream",
     "text": [
      "'1. Scraping.ipynb'                                     Paper.docx\n",
      "'2. Clasification.ipynb'                               'PPT WEB MINING.gslides'\n",
      "'2. Clasificationv2.ipynb'                              temasDFv2.xlsx\n",
      " doc2vec_wikipedia_es_pvdbow                            temasDFv3.xlsx\n",
      " doc2vec_wikipedia_es_pvdbow.docvecs.vectors_docs.npy   temasDF.xlsx\n",
      " doc2vec_wikipedia_es_pvdbow.trainables.syn1neg.npy     \u001b[0m\u001b[01;34mTP1\u001b[0m/\n",
      " doc2vec_wikipedia_es_pvdbow.wv.vectors.npy             TP2.zip\n",
      " Guia.docx                                              Untitled0.ipynb\n",
      " \u001b[01;34mmyproject\u001b[0m/                                             Untitled1.ipynb\n"
     ]
    }
   ],
   "source": [
    "ls drive/'My Drive'/WebMining/"
   ]
  },
  {
   "cell_type": "code",
   "execution_count": 0,
   "metadata": {
    "colab": {},
    "colab_type": "code",
    "id": "oPCN73JvPHGP"
   },
   "outputs": [],
   "source": []
  },
  {
   "cell_type": "code",
   "execution_count": 11,
   "metadata": {
    "colab": {
     "base_uri": "https://localhost:8080/",
     "height": 90
    },
    "colab_type": "code",
    "executionInfo": {
     "elapsed": 37907,
     "status": "ok",
     "timestamp": 1575242814780,
     "user": {
      "displayName": "CARLA NATALIA CACHIS GONZALES",
      "photoUrl": "",
      "userId": "02723007888342178357"
     },
     "user_tz": 300
    },
    "id": "S4VuiI9ScciF",
    "outputId": "749d2c3e-b07e-417c-d609-929a1662fcb9"
   },
   "outputs": [
    {
     "data": {
      "text/plain": [
       "(1301830, 300)"
      ]
     },
     "execution_count": 11,
     "metadata": {},
     "output_type": "execute_result"
    }
   ],
   "source": [
    "model = gensim.models.Word2Vec.load('doc2vec_wikipedia_es_pvdbow')\n",
    "model.docvecs.vectors_docs.shape"
   ]
  },
  {
   "cell_type": "code",
   "execution_count": 30,
   "metadata": {
    "colab": {},
    "colab_type": "code",
    "id": "cpAsBWb2cciP"
   },
   "outputs": [],
   "source": [
    "df = pd.read_excel('temasFinal.xlsx')"
   ]
  },
  {
   "cell_type": "markdown",
   "metadata": {
    "colab_type": "text",
    "id": "aP1XnyFJcciX"
   },
   "source": [
    "# Limpieza de la data"
   ]
  },
  {
   "cell_type": "code",
   "execution_count": 0,
   "metadata": {
    "colab": {},
    "colab_type": "code",
    "id": "iDZEY_EWOBRJ"
   },
   "outputs": [],
   "source": []
  },
  {
   "cell_type": "code",
   "execution_count": 34,
   "metadata": {
    "colab": {
     "base_uri": "https://localhost:8080/",
     "height": 993
    },
    "colab_type": "code",
    "executionInfo": {
     "elapsed": 1379,
     "status": "ok",
     "timestamp": 1575246936425,
     "user": {
      "displayName": "CARLA NATALIA CACHIS GONZALES",
      "photoUrl": "",
      "userId": "02723007888342178357"
     },
     "user_tz": 300
    },
    "id": "QTNX3hsXccib",
    "outputId": "9a11515c-0e48-4831-bf8b-428d40ef22e1"
   },
   "outputs": [],
   "source": [
    "#A minúsculas\n",
    "df[\"Minusculas\"] = df[\"Tema\"].str.lower()\n",
    "\n",
    "#Retirar puntuación\n",
    "cadpun = string.punctuation + '¿'\n",
    "df[\"Sin Puntuacion\"] = df[\"Minusculas\"].str.translate(str.maketrans('', '', cadpun))\n",
    "\n",
    "#Retirar stopwords\n",
    "stops = stopwords.words('spanish')\n",
    "df[\"Clean\"] = df[\"Sin Puntuacion\"].apply(lambda x: ' '.join([word for word in x.split() if word not in (stops)]))\n",
    "\n",
    "#Tokenization\n",
    "df[\"Tokenization\"] = df[\"Clean\"].str.split()"
   ]
  },
  {
   "cell_type": "markdown",
   "metadata": {
    "colab_type": "text",
    "id": "pxQjcVIHcciq"
   },
   "source": [
    "# Creación de Vectores"
   ]
  },
  {
   "cell_type": "code",
   "execution_count": 35,
   "metadata": {
    "colab": {
     "base_uri": "https://localhost:8080/",
     "height": 34
    },
    "colab_type": "code",
    "executionInfo": {
     "elapsed": 78881,
     "status": "ok",
     "timestamp": 1575247015783,
     "user": {
      "displayName": "CARLA NATALIA CACHIS GONZALES",
      "photoUrl": "",
      "userId": "02723007888342178357"
     },
     "user_tz": 300
    },
    "id": "Q3R-DkEBcciu",
    "outputId": "7b89b7a5-1b2e-4c63-8be7-02f544cb905e"
   },
   "outputs": [
    {
     "data": {
      "text/plain": [
       "28047"
      ]
     },
     "execution_count": 35,
     "metadata": {},
     "output_type": "execute_result"
    }
   ],
   "source": [
    "vectores = []\n",
    "for tema in df[\"Tokenization\"]:\n",
    "    vector = model.infer_vector(tema)\n",
    "    vectores.append(vector)\n",
    "len(vectores)"
   ]
  },
  {
   "cell_type": "code",
   "execution_count": 36,
   "metadata": {
    "colab": {
     "base_uri": "https://localhost:8080/",
     "height": 34
    },
    "colab_type": "code",
    "executionInfo": {
     "elapsed": 971,
     "status": "ok",
     "timestamp": 1575247436067,
     "user": {
      "displayName": "CARLA NATALIA CACHIS GONZALES",
      "photoUrl": "",
      "userId": "02723007888342178357"
     },
     "user_tz": 300
    },
    "id": "tDYU71Bccci6",
    "outputId": "31dde6d6-4a45-4f06-ed42-ccd7cd3fd488"
   },
   "outputs": [],
   "source": [
    "df[\"Vector\"]=vectores"
   ]
  },
  {
   "cell_type": "markdown",
   "metadata": {
    "colab_type": "text",
    "id": "rrOcCNmFccjJ"
   },
   "source": [
    "# Comparación\n"
   ]
  },
  {
   "cell_type": "code",
   "execution_count": 12,
   "metadata": {
    "colab": {
     "base_uri": "https://localhost:8080/",
     "height": 52
    },
    "colab_type": "code",
    "executionInfo": {
     "elapsed": 8709,
     "status": "ok",
     "timestamp": 1575248804352,
     "user": {
      "displayName": "CARLA NATALIA CACHIS GONZALES",
      "photoUrl": "",
      "userId": "02723007888342178357"
     },
     "user_tz": 300
    },
    "id": "hEkEFUY0ccjM",
    "outputId": "6c454048-7a18-4a30-8d06-022ef13c7a68"
   },
   "outputs": [
    {
     "name": "stdout",
     "output_type": "stream",
     "text": [
      "Ingrese el tema:\n",
      "donde llevarla a pasear\n"
     ]
    }
   ],
   "source": []
  },
  {
   "cell_type": "code",
   "execution_count": 2,
   "metadata": {
    "colab": {
     "base_uri": "https://localhost:8080/",
     "height": 34
    },
    "colab_type": "code",
    "executionInfo": {
     "elapsed": 370,
     "status": "ok",
     "timestamp": 1575248805730,
     "user": {
      "displayName": "CARLA NATALIA CACHIS GONZALES",
      "photoUrl": "",
      "userId": "02723007888342178357"
     },
     "user_tz": 300
    },
    "id": "kzd4h8tMCrEo",
    "outputId": "b0dab34c-2477-42f9-be17-acbf75e19b71"
   },
   "outputs": [],
   "source": [
    "def getEntradaClean(entrada):\n",
    "    \n",
    "    return entradaClean"
   ]
  },
  {
   "cell_type": "code",
   "execution_count": 37,
   "metadata": {
    "colab": {},
    "colab_type": "code",
    "id": "dT01YAIzDEOG"
   },
   "outputs": [],
   "source": [
    "def getVector(entrada):\n",
    "    cadpun = string.punctuation + '¿'\n",
    "    stops = stopwords.words('spanish')\n",
    "    entrada = entrada.lower()\n",
    "    entrada = entrada.translate(str.maketrans('', '', cadpun))\n",
    "    palabras = entrada.split()\n",
    "    resultwords = [palabra for palabra in palabras if palabra.lower() not in stops]\n",
    "    entradaclean = (' '.join(resultwords)).split()\n",
    "    tagged_question = [TaggedDocument(words=word_tokenize(_d.lower()), tags=[str(i)]) for i, _d in enumerate(entrada)]\n",
    "    vector = model.infer_vector(entradaclean).reshape(1,-1)\n",
    "    return vector"
   ]
  },
  {
   "cell_type": "code",
   "execution_count": 38,
   "metadata": {
    "colab": {},
    "colab_type": "code",
    "id": "WKOFzG56DQ-m"
   },
   "outputs": [],
   "source": [
    "def getSimilarities(df,vector):\n",
    "    #comparación la pregunta ingresada con la BD\n",
    "    proximidades = []\n",
    "    maxprox = 0\n",
    "    cont = 0\n",
    "    similares = {}\n",
    "    similaresdict = {}\n",
    "\n",
    "    for x in df[\"Vector\"]:\n",
    "        vectortema = np.asarray(x).reshape(1,-1)\n",
    "        res = cosine_similarity(vectortema,vector) \n",
    "        #similares[float(res[0])] = preguntas[cont]\n",
    "        similares = {}\n",
    "\n",
    "        similares[\"Tema\"] = df[\"Tema\"][cont]\n",
    "        similares[\"Categoría\"] = df[\"Categoría\"][cont]\n",
    "        similares[\"Subcategoría\"] = df[\"Subcategoría\"][cont]\n",
    "        similares[\"Link\"]=df[\"Link\"][cont]\n",
    "        similares[\"Valor\"] = float(res[0]) \n",
    "        similaresdict[float(res[0])] = similares\n",
    "\n",
    "        if (res> maxprox):\n",
    "            temaproxprox = df[\"Tema\"][cont]\n",
    "            categoria = df[\"Categoría\"][cont]\n",
    "            maxprox = res\n",
    "            contprox = cont\n",
    "        proximidades.append(res)\n",
    "        cont = cont + 1\n",
    "    ordenados = sorted(similaresdict.items(), key=lambda kv: kv[0], reverse=True)\n",
    "    return ordenados\n"
   ]
  },
  {
   "cell_type": "code",
   "execution_count": 19,
   "metadata": {
    "colab": {},
    "colab_type": "code",
    "id": "1mMA8vf0D02O"
   },
   "outputs": [],
   "source": [
    "\n"
   ]
  },
  {
   "cell_type": "code",
   "execution_count": 48,
   "metadata": {
    "colab": {
     "base_uri": "https://localhost:8080/",
     "height": 125
    },
    "colab_type": "code",
    "executionInfo": {
     "elapsed": 6984,
     "status": "ok",
     "timestamp": 1575248926718,
     "user": {
      "displayName": "CARLA NATALIA CACHIS GONZALES",
      "photoUrl": "",
      "userId": "02723007888342178357"
     },
     "user_tz": 300
    },
    "id": "r6mYydkUEWbm",
    "outputId": "6b769833-b9a6-4c47-be61-acf4a551484a"
   },
   "outputs": [
    {
     "ename": "KeyboardInterrupt",
     "evalue": "",
     "output_type": "error",
     "traceback": [
      "\u001b[1;31m---------------------------------------------------------------------------\u001b[0m",
      "\u001b[1;31mKeyboardInterrupt\u001b[0m                         Traceback (most recent call last)",
      "\u001b[1;32m<ipython-input-48-13f4c60e1ee1>\u001b[0m in \u001b[0;36m<module>\u001b[1;34m\u001b[0m\n\u001b[0;32m     22\u001b[0m     \u001b[0mentrada\u001b[0m\u001b[1;33m=\u001b[0m\u001b[0mpreguntas\u001b[0m\u001b[1;33m.\u001b[0m\u001b[0mcell_value\u001b[0m\u001b[1;33m(\u001b[0m\u001b[0mrow\u001b[0m\u001b[1;33m,\u001b[0m \u001b[1;36m0\u001b[0m\u001b[1;33m)\u001b[0m\u001b[1;33m\u001b[0m\u001b[1;33m\u001b[0m\u001b[0m\n\u001b[0;32m     23\u001b[0m     \u001b[0mvector\u001b[0m\u001b[1;33m=\u001b[0m\u001b[0mgetVector\u001b[0m\u001b[1;33m(\u001b[0m\u001b[0mentrada\u001b[0m\u001b[1;33m)\u001b[0m\u001b[1;33m\u001b[0m\u001b[1;33m\u001b[0m\u001b[0m\n\u001b[1;32m---> 24\u001b[1;33m     \u001b[0msimilares\u001b[0m\u001b[1;33m=\u001b[0m\u001b[0mgetSimilarities\u001b[0m\u001b[1;33m(\u001b[0m\u001b[0mdf\u001b[0m\u001b[1;33m,\u001b[0m\u001b[0mvector\u001b[0m\u001b[1;33m)\u001b[0m\u001b[1;33m\u001b[0m\u001b[1;33m\u001b[0m\u001b[0m\n\u001b[0m\u001b[0;32m     25\u001b[0m     \u001b[1;31m#print(entrada)\u001b[0m\u001b[1;33m\u001b[0m\u001b[1;33m\u001b[0m\u001b[1;33m\u001b[0m\u001b[0m\n\u001b[0;32m     26\u001b[0m     \u001b[1;32mfor\u001b[0m \u001b[0mi\u001b[0m \u001b[1;32min\u001b[0m \u001b[0mrange\u001b[0m\u001b[1;33m(\u001b[0m\u001b[1;36m0\u001b[0m\u001b[1;33m,\u001b[0m\u001b[1;36m5\u001b[0m\u001b[1;33m)\u001b[0m\u001b[1;33m:\u001b[0m\u001b[1;33m\u001b[0m\u001b[1;33m\u001b[0m\u001b[0m\n",
      "\u001b[1;32m<ipython-input-38-6de95cbb7b12>\u001b[0m in \u001b[0;36mgetSimilarities\u001b[1;34m(df, vector)\u001b[0m\n\u001b[0;32m      9\u001b[0m     \u001b[1;32mfor\u001b[0m \u001b[0mx\u001b[0m \u001b[1;32min\u001b[0m \u001b[0mdf\u001b[0m\u001b[1;33m[\u001b[0m\u001b[1;34m\"Vector\"\u001b[0m\u001b[1;33m]\u001b[0m\u001b[1;33m:\u001b[0m\u001b[1;33m\u001b[0m\u001b[1;33m\u001b[0m\u001b[0m\n\u001b[0;32m     10\u001b[0m         \u001b[0mvectortema\u001b[0m \u001b[1;33m=\u001b[0m \u001b[0mnp\u001b[0m\u001b[1;33m.\u001b[0m\u001b[0masarray\u001b[0m\u001b[1;33m(\u001b[0m\u001b[0mx\u001b[0m\u001b[1;33m)\u001b[0m\u001b[1;33m.\u001b[0m\u001b[0mreshape\u001b[0m\u001b[1;33m(\u001b[0m\u001b[1;36m1\u001b[0m\u001b[1;33m,\u001b[0m\u001b[1;33m-\u001b[0m\u001b[1;36m1\u001b[0m\u001b[1;33m)\u001b[0m\u001b[1;33m\u001b[0m\u001b[1;33m\u001b[0m\u001b[0m\n\u001b[1;32m---> 11\u001b[1;33m         \u001b[0mres\u001b[0m \u001b[1;33m=\u001b[0m \u001b[0mcosine_similarity\u001b[0m\u001b[1;33m(\u001b[0m\u001b[0mvectortema\u001b[0m\u001b[1;33m,\u001b[0m\u001b[0mvector\u001b[0m\u001b[1;33m)\u001b[0m\u001b[1;33m\u001b[0m\u001b[1;33m\u001b[0m\u001b[0m\n\u001b[0m\u001b[0;32m     12\u001b[0m         \u001b[1;31m#similares[float(res[0])] = preguntas[cont]\u001b[0m\u001b[1;33m\u001b[0m\u001b[1;33m\u001b[0m\u001b[1;33m\u001b[0m\u001b[0m\n\u001b[0;32m     13\u001b[0m         \u001b[0msimilares\u001b[0m \u001b[1;33m=\u001b[0m \u001b[1;33m{\u001b[0m\u001b[1;33m}\u001b[0m\u001b[1;33m\u001b[0m\u001b[1;33m\u001b[0m\u001b[0m\n",
      "\u001b[1;32m~\\Anaconda3\\lib\\site-packages\\sklearn\\metrics\\pairwise.py\u001b[0m in \u001b[0;36mcosine_similarity\u001b[1;34m(X, Y, dense_output)\u001b[0m\n\u001b[0;32m   1027\u001b[0m     \u001b[0mX\u001b[0m\u001b[1;33m,\u001b[0m \u001b[0mY\u001b[0m \u001b[1;33m=\u001b[0m \u001b[0mcheck_pairwise_arrays\u001b[0m\u001b[1;33m(\u001b[0m\u001b[0mX\u001b[0m\u001b[1;33m,\u001b[0m \u001b[0mY\u001b[0m\u001b[1;33m)\u001b[0m\u001b[1;33m\u001b[0m\u001b[1;33m\u001b[0m\u001b[0m\n\u001b[0;32m   1028\u001b[0m \u001b[1;33m\u001b[0m\u001b[0m\n\u001b[1;32m-> 1029\u001b[1;33m     \u001b[0mX_normalized\u001b[0m \u001b[1;33m=\u001b[0m \u001b[0mnormalize\u001b[0m\u001b[1;33m(\u001b[0m\u001b[0mX\u001b[0m\u001b[1;33m,\u001b[0m \u001b[0mcopy\u001b[0m\u001b[1;33m=\u001b[0m\u001b[1;32mTrue\u001b[0m\u001b[1;33m)\u001b[0m\u001b[1;33m\u001b[0m\u001b[1;33m\u001b[0m\u001b[0m\n\u001b[0m\u001b[0;32m   1030\u001b[0m     \u001b[1;32mif\u001b[0m \u001b[0mX\u001b[0m \u001b[1;32mis\u001b[0m \u001b[0mY\u001b[0m\u001b[1;33m:\u001b[0m\u001b[1;33m\u001b[0m\u001b[1;33m\u001b[0m\u001b[0m\n\u001b[0;32m   1031\u001b[0m         \u001b[0mY_normalized\u001b[0m \u001b[1;33m=\u001b[0m \u001b[0mX_normalized\u001b[0m\u001b[1;33m\u001b[0m\u001b[1;33m\u001b[0m\u001b[0m\n",
      "\u001b[1;32m~\\Anaconda3\\lib\\site-packages\\sklearn\\preprocessing\\data.py\u001b[0m in \u001b[0;36mnormalize\u001b[1;34m(X, norm, axis, copy, return_norm)\u001b[0m\n\u001b[0;32m   1612\u001b[0m \u001b[1;33m\u001b[0m\u001b[0m\n\u001b[0;32m   1613\u001b[0m     X = check_array(X, sparse_format, copy=copy,\n\u001b[1;32m-> 1614\u001b[1;33m                     estimator='the normalize function', dtype=FLOAT_DTYPES)\n\u001b[0m\u001b[0;32m   1615\u001b[0m     \u001b[1;32mif\u001b[0m \u001b[0maxis\u001b[0m \u001b[1;33m==\u001b[0m \u001b[1;36m0\u001b[0m\u001b[1;33m:\u001b[0m\u001b[1;33m\u001b[0m\u001b[1;33m\u001b[0m\u001b[0m\n\u001b[0;32m   1616\u001b[0m         \u001b[0mX\u001b[0m \u001b[1;33m=\u001b[0m \u001b[0mX\u001b[0m\u001b[1;33m.\u001b[0m\u001b[0mT\u001b[0m\u001b[1;33m\u001b[0m\u001b[1;33m\u001b[0m\u001b[0m\n",
      "\u001b[1;32m~\\Anaconda3\\lib\\site-packages\\sklearn\\utils\\validation.py\u001b[0m in \u001b[0;36mcheck_array\u001b[1;34m(array, accept_sparse, accept_large_sparse, dtype, order, copy, force_all_finite, ensure_2d, allow_nd, ensure_min_samples, ensure_min_features, warn_on_dtype, estimator)\u001b[0m\n\u001b[0;32m    563\u001b[0m         \u001b[0mwarnings\u001b[0m\u001b[1;33m.\u001b[0m\u001b[0mwarn\u001b[0m\u001b[1;33m(\u001b[0m\u001b[0mmsg\u001b[0m\u001b[1;33m,\u001b[0m \u001b[0mDataConversionWarning\u001b[0m\u001b[1;33m)\u001b[0m\u001b[1;33m\u001b[0m\u001b[1;33m\u001b[0m\u001b[0m\n\u001b[0;32m    564\u001b[0m \u001b[1;33m\u001b[0m\u001b[0m\n\u001b[1;32m--> 565\u001b[1;33m     \u001b[1;32mif\u001b[0m \u001b[0mcopy\u001b[0m \u001b[1;32mand\u001b[0m \u001b[0mnp\u001b[0m\u001b[1;33m.\u001b[0m\u001b[0mmay_share_memory\u001b[0m\u001b[1;33m(\u001b[0m\u001b[0marray\u001b[0m\u001b[1;33m,\u001b[0m \u001b[0marray_orig\u001b[0m\u001b[1;33m)\u001b[0m\u001b[1;33m:\u001b[0m\u001b[1;33m\u001b[0m\u001b[1;33m\u001b[0m\u001b[0m\n\u001b[0m\u001b[0;32m    566\u001b[0m         \u001b[0marray\u001b[0m \u001b[1;33m=\u001b[0m \u001b[0mnp\u001b[0m\u001b[1;33m.\u001b[0m\u001b[0marray\u001b[0m\u001b[1;33m(\u001b[0m\u001b[0marray\u001b[0m\u001b[1;33m,\u001b[0m \u001b[0mdtype\u001b[0m\u001b[1;33m=\u001b[0m\u001b[0mdtype\u001b[0m\u001b[1;33m,\u001b[0m \u001b[0morder\u001b[0m\u001b[1;33m=\u001b[0m\u001b[0morder\u001b[0m\u001b[1;33m)\u001b[0m\u001b[1;33m\u001b[0m\u001b[1;33m\u001b[0m\u001b[0m\n\u001b[0;32m    567\u001b[0m \u001b[1;33m\u001b[0m\u001b[0m\n",
      "\u001b[1;31mKeyboardInterrupt\u001b[0m: "
     ]
    }
   ],
   "source": [
    "# Program to extract number \n",
    "# of rows using Python \n",
    "import xlrd \n",
    "import xlwt \n",
    "from xlwt import Workbook \n",
    "  \n",
    " \n",
    "  \n",
    "# Give the location of the file \n",
    "loc = (\"preguntas.xls\") \n",
    "  \n",
    "wb = xlrd.open_workbook(loc) \n",
    "preguntas = wb.sheet_by_index(0) \n",
    "# Extracting number of rows \n",
    "nrows=preguntas.nrows\n",
    "\n",
    "wb2 = Workbook() \n",
    "respuestas = wb2.add_sheet('Respuestas')\n",
    "\n",
    "j=0\n",
    "for row in range(0,nrows):\n",
    "    entrada=preguntas.cell_value(row, 0) \n",
    "    vector=getVector(entrada)\n",
    "    similares=getSimilarities(df,vector)\n",
    "    #print(entrada)\n",
    "    for i in range(0,5):\n",
    "        respuestas.write(j,0,i)\n",
    "        respuestas.write(j,1,similares[i][1][\"Tema\"])\n",
    "        j+=1\n",
    "        \n",
    "wb2.save('preguntas.xls') \n",
    "\n",
    "        #print(similares[i][1])"
   ]
  },
  {
   "cell_type": "code",
   "execution_count": 0,
   "metadata": {
    "colab": {},
    "colab_type": "code",
    "id": "0YaThpQ_G6uc"
   },
   "outputs": [],
   "source": []
  }
 ],
 "metadata": {
  "accelerator": "GPU",
  "colab": {
   "collapsed_sections": [],
   "name": "2. TAREA 2.ipynb",
   "provenance": [],
   "toc_visible": true
  },
  "kernelspec": {
   "display_name": "Python 3",
   "language": "python",
   "name": "python3"
  },
  "language_info": {
   "codemirror_mode": {
    "name": "ipython",
    "version": 3
   },
   "file_extension": ".py",
   "mimetype": "text/x-python",
   "name": "python",
   "nbconvert_exporter": "python",
   "pygments_lexer": "ipython3",
   "version": "3.7.3"
  }
 },
 "nbformat": 4,
 "nbformat_minor": 1
}
